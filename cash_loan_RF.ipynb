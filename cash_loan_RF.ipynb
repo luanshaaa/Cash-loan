{
 "cells": [
  {
   "cell_type": "code",
   "execution_count": 4,
   "metadata": {},
   "outputs": [
    {
     "data": {
      "text/plain": [
       "<module 'sys' (built-in)>"
      ]
     },
     "execution_count": 4,
     "metadata": {},
     "output_type": "execute_result"
    }
   ],
   "source": [
    "import sys\n",
    "\n",
    "from imp import reload\n",
    "import time\n",
    "from sklearn import metrics\n",
    "import numpy as np\n",
    "import csv\n",
    "from sklearn import preprocessing\n",
    "\n",
    "import matplotlib.pyplot as plt\n",
    "from sklearn.metrics import roc_curve, auc  ###计算roc和auc\n",
    "\n",
    "from sklearn.preprocessing import Imputer\n",
    "from sklearn.metrics import classification_report\n",
    "from sklearn.decomposition import PCA\n",
    "from sklearn.model_selection import train_test_split\n",
    "np.set_printoptions(suppress=True)\n",
    "reload(sys)"
   ]
  },
  {
   "cell_type": "code",
   "execution_count": 5,
   "metadata": {
    "collapsed": true
   },
   "outputs": [],
   "source": [
    "# Random Forest Classifier\n",
    "def random_forest_classifier(train_x, train_y):\n",
    "    from sklearn.ensemble import RandomForestClassifier\n",
    "    model = RandomForestClassifier(n_estimators=200)\n",
    "    model.fit(train_x, train_y)\n",
    "    return model\n",
    "\n",
    "def get_low_important_feature(train_x, train_y):\n",
    "    from sklearn.ensemble import RandomForestClassifier\n",
    "    model = RandomForestClassifier(n_estimators=20)\n",
    "    model.fit(train_x, train_y)\n",
    "    importances = model.feature_importances_\n",
    "    indices = np.argsort(importances)[::-1]\n",
    "\n",
    "    low_150_feature = indices[150:]\n",
    "\n",
    "    return low_150_feature\n",
    "\n",
    "\n",
    "# Decision Tree Classifier\n",
    "def decision_tree_classifier(train_x, train_y):\n",
    "    from sklearn import tree\n",
    "    model = tree.DecisionTreeClassifier()\n",
    "    model.fit(train_x, train_y)\n",
    "    return model\n",
    "\n",
    "def read_csv_data(data_file):\n",
    "    csv_reader = csv.reader(open(data_file, encoding='utf-8'))\n",
    "    # for row in csv_reader:\n",
    "    #     print(row)\n",
    "    # return [item for item in csv_reader]\n",
    "\n",
    "    ignore_column = [0,86,87,88,169,170,193,217,218,219,220,221,222,279,281,282,283,284,285,286,288,289,290,291,292,293,\\\n",
    "                     294,296,299,310,313,314,315,316,317,318,319,320,321,339,340,341,342,343,346,347,348,353,354,355]\n",
    "    data = []\n",
    "    for item in csv_reader:\n",
    "        valid_columns = []\n",
    "        idx = 0;\n",
    "        for column in item:\n",
    "            # if idx in feature_cloumn:\n",
    "            if idx not in ignore_column:\n",
    "                valid_columns.append(column)\n",
    "            idx += 1\n",
    "        valid_columns.append(item[321])# lable index is 321\n",
    "        data.append(valid_columns)\n",
    "        # print(valid_columns)\n",
    "    return data\n",
    "\n",
    "def data_preprocessing(data):\n",
    "    imp = Imputer(missing_values='NaN', strategy='mean', axis=0)  # data preprocessing for missing value\n",
    "    imp.fit(data)\n",
    "    return imp.transform(data)"
   ]
  },
  {
   "cell_type": "markdown",
   "metadata": {},
   "source": [
    "## 加载训练集并进行预处理以及特征选择"
   ]
  },
  {
   "cell_type": "code",
   "execution_count": 6,
   "metadata": {},
   "outputs": [
    {
     "name": "stdout",
     "output_type": "stream",
     "text": [
      "reading training and testing data...\n"
     ]
    },
    {
     "name": "stderr",
     "output_type": "stream",
     "text": [
      "/Users/sunshiding/anaconda3/envs/environment3/lib/python3.6/site-packages/sklearn/ensemble/weight_boosting.py:29: DeprecationWarning: numpy.core.umath_tests is an internal NumPy module and should not be imported. It will be removed in a future NumPy release.\n",
      "  from numpy.core.umath_tests import inner1d\n"
     ]
    },
    {
     "name": "stdout",
     "output_type": "stream",
     "text": [
      "low_150_rf:\n",
      " [ 21 120 247   9 238   5  56  46 103  48  33  10  12  45 183  29 237   4\n",
      "  19  28  26 175  55  15 165   1  58 212 246 273  57   7 190  18  14  54\n",
      " 229  77 245 128 145 283 189 195 102 153 119 174  13 161  32  69 182 160\n",
      " 137 118  25  53 127 258  17 100 228  99  97 236 152 109 111 126  16 101\n",
      " 124 194 173  98 108 297 115 288 136 116 181 106  24 117 144 244 188 110\n",
      "  96 125 151 204 107 143 158 123 150 299 148 133 147 135 172 281 155 134\n",
      " 159 114 122 132 207 157 280 142 141 149 156 180 131 306 146 140 208 202\n",
      " 210 154  95 205 209 139 289 282 211 130 279 301 138 298 277 187 179  94\n",
      " 171  91 278 264 268 203 307  93 275 276 206  92 269  90 266 265]\n",
      "train_x:\n",
      " [[0.9672712  0.03179191 0.02441151 ... 0.00002439 0.82608696 0.76863753]\n",
      " [0.96611377 0.03323699 0.01743679 ... 0.00001334 0.47826087 0.52956298]\n",
      " [0.96508666 0.11271676 0.06015693 ... 0.00006371 0.52173913 0.44730077]\n",
      " ...\n",
      " [0.96668527 0.00867052 0.01046207 ... 0.00001193 0.60869565 0.56812339]\n",
      " [0.96513006 0.02890173 0.00959024 ... 0.00001702 0.43478261 0.50128535]\n",
      " [0.96881924 0.02601156 0.02528335 ... 0.00001457 0.56521739 0.41645244]]\n"
     ]
    }
   ],
   "source": [
    "print('reading training and testing data...')\n",
    "\n",
    "data_csv_file = '/Users/sunshiding/Desktop/现金贷/train_data.csv'\n",
    "csv_data = read_csv_data(data_csv_file)\n",
    "sample_x, sample_y = [], []\n",
    "\n",
    "train_p = 0\n",
    "train_n = 0\n",
    "\n",
    "data_number = 0\n",
    "\n",
    "\n",
    "for *sample, label in csv_data[1:]:\n",
    "    row_x = []\n",
    "    for item in sample:\n",
    "        if item == '':\n",
    "            row_x.append(np.nan)\n",
    "        else:\n",
    "            row_x.append(float(item))\n",
    "    sample_x.append(row_x)\n",
    "    if label == '1':\n",
    "        sample_y.append(1)\n",
    "        train_p +=1\n",
    "    else:\n",
    "        sample_y.append(-1)\n",
    "        train_n += 1\n",
    "\n",
    "#data preprocessing for missing value\n",
    "sample_x = data_preprocessing(sample_x)\n",
    "\n",
    "sample_x = np.array(sample_x)\n",
    "sample_y = np.array(sample_y)\n",
    "\n",
    "train_x = sample_x\n",
    "train_y = sample_y\n",
    "\n",
    "#normalization\n",
    "min_max_scaler = preprocessing.MinMaxScaler()\n",
    "train_x = min_max_scaler.fit_transform(train_x)\n",
    "\n",
    "# feature selection\n",
    "low_150_rf = get_low_important_feature(train_x, train_y)\n",
    "print(\"low_150_rf:\\n\",low_150_rf)\n",
    "train_x = np.delete(train_x,low_150_rf,1)\n",
    "print(\"train_x:\\n\",train_x)"
   ]
  },
  {
   "cell_type": "code",
   "execution_count": 7,
   "metadata": {},
   "outputs": [
    {
     "data": {
      "text/plain": [
       "(41441, 150)"
      ]
     },
     "execution_count": 7,
     "metadata": {},
     "output_type": "execute_result"
    }
   ],
   "source": [
    "train_x.shape"
   ]
  },
  {
   "cell_type": "markdown",
   "metadata": {},
   "source": [
    "## 加载测试集"
   ]
  },
  {
   "cell_type": "code",
   "execution_count": 8,
   "metadata": {},
   "outputs": [
    {
     "name": "stdout",
     "output_type": "stream",
     "text": [
      "************data distribution***************\n",
      "#train_n: 28368, #train_p: 13073, test_n: 7016, test_p: 3356\n",
      "******************** Data Info *********************\n",
      "#training data: 41441, #testing_data: 10372, dimension: 150\n"
     ]
    }
   ],
   "source": [
    "data_csv_file_test = '/Users/sunshiding/Desktop/现金贷/test_data.csv'\n",
    "csv_data_test = read_csv_data(data_csv_file_test)\n",
    "sample_x_test, sample_y_test = [], []\n",
    "\n",
    "\n",
    "test_n = 0\n",
    "test_p = 0\n",
    "\n",
    "for *sample, label in csv_data_test[1:]:\n",
    "    row_x = []\n",
    "    for item in sample:\n",
    "        if item == '':\n",
    "            row_x.append(np.nan)\n",
    "        else:\n",
    "            row_x.append(float(item))\n",
    "    sample_x_test.append(row_x)\n",
    "    if label == '1':\n",
    "        sample_y_test.append(1)\n",
    "        test_p += 1\n",
    "    else:\n",
    "        sample_y_test.append(-1)\n",
    "        test_n += 1\n",
    "\n",
    "sample_x_test = data_preprocessing(sample_x_test)\n",
    "\n",
    "sample_x_test = np.array(sample_x_test)\n",
    "sample_y_test = np.array(sample_y_test)\n",
    "\n",
    "test_x = sample_x_test\n",
    "test_y = sample_y_test\n",
    "\n",
    "# test_x = pca.fit_transform(test_x)\n",
    "\n",
    "test_x = np.delete(test_x, low_150_rf, 1)\n",
    "\n",
    "min_max_scaler = preprocessing.MinMaxScaler()\n",
    "test_x = min_max_scaler.fit_transform(test_x)\n",
    "\n",
    "print(\"************data distribution***************\")\n",
    "print('#train_n: %d, #train_p: %d, test_n: %d, test_p: %d' % (train_n, train_p, test_n,test_p))\n",
    "\n",
    "num_train, num_feat = train_x.shape\n",
    "num_test, num_feat = test_x.shape\n",
    "print('******************** Data Info *********************')\n",
    "print('#training data: %d, #testing_data: %d, dimension: %d' % (num_train, num_test, num_feat))"
   ]
  },
  {
   "cell_type": "markdown",
   "metadata": {},
   "source": [
    "## 训练决策树"
   ]
  },
  {
   "cell_type": "code",
   "execution_count": 9,
   "metadata": {},
   "outputs": [
    {
     "name": "stdout",
     "output_type": "stream",
     "text": [
      "training took 6.834323s!\n",
      "[ 1  1  1 ... -1 -1  1]\n",
      "Confusion matrix:\n",
      "[[2652 4364]\n",
      " [ 935 2421]]\n",
      "AUC:0.55, precision: 35.68%, recall: 72.14%\n",
      "accuracy: 48.91%\n"
     ]
    }
   ],
   "source": [
    "start_time = time.time()\n",
    "model = decision_tree_classifier(train_x, train_y)\n",
    "print('training took %fs!' % (time.time() - start_time))\n",
    "predict = model.predict(test_x)\n",
    "print(predict)\n",
    "\n",
    "precision = metrics.precision_score(test_y, predict)\n",
    "recall = metrics.recall_score(test_y, predict)\n",
    "test_auc = metrics.roc_auc_score(test_y, predict)\n",
    "print(\"Confusion matrix:\\n%s\" % metrics.confusion_matrix(test_y, predict))\n",
    "print('AUC:%.2f, precision: %.2f%%, recall: %.2f%%' % (test_auc,100 * precision, 100 * recall))\n",
    "accuracy = metrics.accuracy_score(test_y, predict)\n",
    "print('accuracy: %.2f%%' % (100 * accuracy))"
   ]
  },
  {
   "cell_type": "code",
   "execution_count": 10,
   "metadata": {},
   "outputs": [
    {
     "data": {
      "text/plain": [
       "<Figure size 432x288 with 0 Axes>"
      ]
     },
     "metadata": {},
     "output_type": "display_data"
    },
    {
     "data": {
      "image/png": "[encoded data removed]",
      "text/plain": [
       "<Figure size 720x720 with 1 Axes>"
      ]
     },
     "metadata": {},
     "output_type": "display_data"
    }
   ],
   "source": [
    "# Compute ROC curve and ROC area for each class\n",
    "y_score = model.predict_proba(test_x)\n",
    "fpr, tpr, threshold = roc_curve(test_y, y_score[:,1])  ###计算真正率和假正率\n",
    "roc_auc = auc(fpr, tpr)  ###计算auc的值\n",
    "\n",
    "plt.figure()\n",
    "lw = 2\n",
    "plt.figure(figsize=(10, 10))\n",
    "plt.plot(fpr, tpr, color='darkorange',\n",
    "         lw=lw, label='ROC curve (area = %0.2f)' % roc_auc)  ###假正率为横坐标，真正率为纵坐标做曲线\n",
    "plt.plot([0, 1], [0, 1], color='navy', lw=lw, linestyle='--')\n",
    "plt.xlim([0.0, 1.0])\n",
    "plt.ylim([0.0, 1.05])\n",
    "plt.xlabel('False Positive Rate')\n",
    "plt.ylabel('True Positive Rate')\n",
    "plt.title('Receiver operating characteristic')\n",
    "plt.legend(loc=\"lower right\")\n",
    "plt.show()"
   ]
  },
  {
   "cell_type": "markdown",
   "metadata": {},
   "source": [
    "## 训练随机森林"
   ]
  },
  {
   "cell_type": "code",
   "execution_count": 11,
   "metadata": {},
   "outputs": [
    {
     "name": "stdout",
     "output_type": "stream",
     "text": [
      "training took 72.362843s!\n",
      "[ 1  1  1 ... -1 -1 -1]\n",
      "Confusion matrix:\n",
      "[[6705  311]\n",
      " [2618  738]]\n",
      "AUC:0.73, precision: 70.35%, recall: 21.99%\n",
      "accuracy: 71.76%\n"
     ]
    }
   ],
   "source": [
    "start_time = time.time()\n",
    "model = random_forest_classifier(train_x, train_y)\n",
    "print('training took %fs!' % (time.time() - start_time))\n",
    "predict = model.predict(test_x)\n",
    "predict_proba = model.predict_proba(test_x)\n",
    "print(predict)\n",
    "\n",
    "precision = metrics.precision_score(test_y, predict)\n",
    "recall = metrics.recall_score(test_y, predict)\n",
    "test_auc = metrics.roc_auc_score(test_y, predict_proba[:,1])\n",
    "print(\"Confusion matrix:\\n%s\" % metrics.confusion_matrix(test_y, predict))\n",
    "print('AUC:%.2f, precision: %.2f%%, recall: %.2f%%' % (test_auc,100 * precision, 100 * recall))\n",
    "accuracy = metrics.accuracy_score(test_y, predict)\n",
    "print('accuracy: %.2f%%' % (100 * accuracy))"
   ]
  },
  {
   "cell_type": "code",
   "execution_count": 12,
   "metadata": {},
   "outputs": [
    {
     "name": "stdout",
     "output_type": "stream",
     "text": [
      "             precision    recall  f1-score   support\n",
      "\n",
      "         -1       0.72      0.96      0.82      7016\n",
      "          1       0.70      0.22      0.34      3356\n",
      "\n",
      "avg / total       0.71      0.72      0.66     10372\n",
      "\n"
     ]
    }
   ],
   "source": [
    "print(classification_report(test_y, predict))"
   ]
  },
  {
   "cell_type": "code",
   "execution_count": 13,
   "metadata": {},
   "outputs": [
    {
     "name": "stdout",
     "output_type": "stream",
     "text": [
      "[[0.2   0.8  ]\n",
      " [0.2   0.8  ]\n",
      " [0.17  0.83 ]\n",
      " ...\n",
      " [0.625 0.375]\n",
      " [0.73  0.27 ]\n",
      " [0.635 0.365]]\n",
      "0.731621375728286\n"
     ]
    },
    {
     "data": {
      "text/plain": [
       "<Figure size 432x288 with 0 Axes>"
      ]
     },
     "metadata": {},
     "output_type": "display_data"
    },
    {
     "data": {
      "image/png": "[encoded data removed]",
      "text/plain": [
       "<Figure size 720x720 with 1 Axes>"
      ]
     },
     "metadata": {},
     "output_type": "display_data"
    }
   ],
   "source": [
    "y_score = model.predict_proba(test_x)\n",
    "print(y_score)\n",
    "fpr, tpr, threshold = roc_curve(test_y, y_score[:,1])  ###计算真正率和假正率\n",
    "roc_auc = auc(fpr, tpr)  ###计算auc的值\n",
    "print(roc_auc)\n",
    "plt.figure()\n",
    "lw = 2\n",
    "plt.figure(figsize=(10, 10))\n",
    "plt.plot(fpr, tpr, color='darkorange',\n",
    "         lw=lw, label='ROC curve (area = %0.2f)' % roc_auc)  ###假正率为横坐标，真正率为纵坐标做曲线\n",
    "plt.plot([0, 1], [0, 1], color='navy', lw=lw, linestyle='--')\n",
    "plt.xlim([0.0, 1.0])\n",
    "plt.ylim([0.0, 1.05])\n",
    "plt.xlabel('False Positive Rate')\n",
    "plt.ylabel('True Positive Rate')\n",
    "plt.title('Receiver operating characteristic')\n",
    "plt.legend(loc=\"lower right\")\n",
    "plt.show()"
   ]
  },
  {
   "cell_type": "code",
   "execution_count": null,
   "metadata": {
    "collapsed": true
   },
   "outputs": [],
   "source": []
  }
 ],
 "metadata": {
  "kernelspec": {
   "display_name": "Python 3",
   "language": "python",
   "name": "python3"
  },
  "language_info": {
   "codemirror_mode": {
    "name": "ipython",
    "version": 3
   },
   "file_extension": ".py",
   "mimetype": "text/x-python",
   "name": "python",
   "nbconvert_exporter": "python",
   "pygments_lexer": "ipython3",
   "version": "3.6.2"
  }
 },
 "nbformat": 4,
 "nbformat_minor": 2
}
